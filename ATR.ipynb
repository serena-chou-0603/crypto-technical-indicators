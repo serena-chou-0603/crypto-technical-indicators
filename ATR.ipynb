{
 "cells": [
  {
   "cell_type": "code",
   "execution_count": 1,
   "id": "d3d1b56d-3757-49a2-b9ff-892b1a0bf1eb",
   "metadata": {},
   "outputs": [],
   "source": [
    "import talib\n",
    "import pandas as pd\n",
    "from pandas import DataFrame, to_datetime\n",
    "import json"
   ]
  },
  {
   "cell_type": "code",
   "execution_count": 2,
   "id": "eed6af40-de55-4de2-86a8-fecbbd208dcb",
   "metadata": {},
   "outputs": [],
   "source": [
    "# talib.get_functions()\n",
    "# 參考：https://github.com/freqtrade/freqtrade/blob/c57d8078458fe313f66abf0146b450c5be97e060/freqtrade/data/converter.py"
   ]
  },
  {
   "cell_type": "code",
   "execution_count": 3,
   "id": "f3b8d997-2a1c-4392-8ba6-8eb7dce51f2c",
   "metadata": {},
   "outputs": [],
   "source": [
    "def getAtrRatio(df, period=14):\n",
    "        \"\"\"\n",
    "            平均波動率：ATR(14)/MA(14)\n",
    "        \"\"\"\n",
    "        highs = df['high']\n",
    "        lows = df['low']\n",
    "        closes = df['close']\n",
    "\n",
    "        atr = talib.ATR(highs, lows, closes, timeperiod=period)\n",
    "        ma = talib.MA(closes, timeperiod=period)\n",
    "\n",
    "        volatility = atr/ma\n",
    "\n",
    "        s = pd.Series(volatility, index=df.index, name='volatility').dropna()\n",
    "\n",
    "        return s"
   ]
  },
  {
   "cell_type": "code",
   "execution_count": 4,
   "id": "0528ffed-1492-444d-8b7c-193b3312ede1",
   "metadata": {},
   "outputs": [],
   "source": [
    "def getAtr(df, period=14):\n",
    "        \"\"\"\n",
    "            平均波動率：ATR(14)/MA(14)\n",
    "        \"\"\"\n",
    "        highs = df['high']\n",
    "        lows = df['low']\n",
    "        closes = df['close']\n",
    "\n",
    "        atr = talib.ATR(highs, lows, closes, timeperiod=period)\n",
    "       #ma = talib.MA(closes, timeperiod=period)\n",
    "\n",
    "        #volatility = atr/ma\n",
    "\n",
    "        #s = pd.Series(volatility, index=df.index, name='volatility').dropna()\n",
    "\n",
    "        return atr"
   ]
  },
  {
   "cell_type": "markdown",
   "id": "1ffd4bc1-af18-44f1-bbe1-870e6a2cceaa",
   "metadata": {},
   "source": [
    "ATR DEFINITION\n",
    "1. The average true range (ATR) is a market volatility indicator used in technical analysis.\n",
    "2. It is typically derived from the 14-day simple moving average of a series of true range indicators.\n",
    "3. The ATR was originally developed for use in commodities markets but has since been applied to all types of securities."
   ]
  },
  {
   "cell_type": "code",
   "execution_count": 5,
   "id": "41718d5f-e7ed-48dd-9596-984282c29a7f",
   "metadata": {},
   "outputs": [],
   "source": [
    "symbol = 'BNB'\n",
    "with open(f'./data/ftx/{symbol}_USD-5m.json', 'r') as f:\n",
    "    ohlcv_list = json.load(f)"
   ]
  },
  {
   "cell_type": "code",
   "execution_count": 6,
   "id": "faccf5aa-205f-400d-9ed2-3e39387376f7",
   "metadata": {},
   "outputs": [
    {
     "data": {
      "text/plain": [
       "[1657616400000, 223.098, 223.298, 223.023, 223.091, 4818.42811]"
      ]
     },
     "execution_count": 6,
     "metadata": {},
     "output_type": "execute_result"
    }
   ],
   "source": [
    "ohlcv_list[-1]"
   ]
  },
  {
   "cell_type": "code",
   "execution_count": 7,
   "id": "d24ed69b-8474-4af4-99d7-57b2fccf5a45",
   "metadata": {},
   "outputs": [],
   "source": [
    "df = pd.DataFrame(ohlcv_list, columns=['date','open','high','low','close','volume'])\n",
    "df['date'] = pd.to_datetime(df['date'], unit='ms', utc=True, infer_datetime_format=True)"
   ]
  },
  {
   "cell_type": "code",
   "execution_count": 8,
   "id": "226df8e5-78d8-4ac2-aa64-9d16903a941d",
   "metadata": {},
   "outputs": [
    {
     "data": {
      "text/plain": [
       "160514"
      ]
     },
     "execution_count": 8,
     "metadata": {},
     "output_type": "execute_result"
    }
   ],
   "source": [
    "len(df)"
   ]
  },
  {
   "cell_type": "code",
   "execution_count": 23,
   "id": "ac64b222-2ec8-481b-81e3-fcdf66b6e815",
   "metadata": {},
   "outputs": [
    {
     "data": {
      "text/html": [
       "<div>\n",
       "<style scoped>\n",
       "    .dataframe tbody tr th:only-of-type {\n",
       "        vertical-align: middle;\n",
       "    }\n",
       "\n",
       "    .dataframe tbody tr th {\n",
       "        vertical-align: top;\n",
       "    }\n",
       "\n",
       "    .dataframe thead th {\n",
       "        text-align: right;\n",
       "    }\n",
       "</style>\n",
       "<table border=\"1\" class=\"dataframe\">\n",
       "  <thead>\n",
       "    <tr style=\"text-align: right;\">\n",
       "      <th></th>\n",
       "      <th>date</th>\n",
       "      <th>open</th>\n",
       "      <th>high</th>\n",
       "      <th>low</th>\n",
       "      <th>close</th>\n",
       "      <th>volume</th>\n",
       "    </tr>\n",
       "  </thead>\n",
       "  <tbody>\n",
       "    <tr>\n",
       "      <th>160275</th>\n",
       "      <td>2022-07-11 13:10:00+00:00</td>\n",
       "      <td>232.521</td>\n",
       "      <td>232.521</td>\n",
       "      <td>232.233</td>\n",
       "      <td>232.320</td>\n",
       "      <td>244092.26971</td>\n",
       "    </tr>\n",
       "    <tr>\n",
       "      <th>160276</th>\n",
       "      <td>2022-07-11 13:15:00+00:00</td>\n",
       "      <td>232.320</td>\n",
       "      <td>232.636</td>\n",
       "      <td>232.262</td>\n",
       "      <td>232.569</td>\n",
       "      <td>274492.82811</td>\n",
       "    </tr>\n",
       "  </tbody>\n",
       "</table>\n",
       "</div>"
      ],
      "text/plain": [
       "                            date     open     high      low    close  \\\n",
       "160275 2022-07-11 13:10:00+00:00  232.521  232.521  232.233  232.320   \n",
       "160276 2022-07-11 13:15:00+00:00  232.320  232.636  232.262  232.569   \n",
       "\n",
       "              volume  \n",
       "160275  244092.26971  \n",
       "160276  274492.82811  "
      ]
     },
     "execution_count": 23,
     "metadata": {},
     "output_type": "execute_result"
    }
   ],
   "source": [
    "df.tail(2)"
   ]
  },
  {
   "cell_type": "code",
   "execution_count": 24,
   "id": "dd3998b7-e837-4a8b-bef6-b79174c9dbdc",
   "metadata": {},
   "outputs": [],
   "source": [
    "def timeframe_to_minutes(timeframe: str):\n",
    "    timeframe = timeframe.lower().strip()\n",
    "    if timeframe[-1] == 'm':\n",
    "        return timeframe[0:-1]\n",
    "    elif timeframe[-1] == 'h':\n",
    "        return int(timeframe[0:-1]) * 60\n",
    "    elif timeframe[-1] == 'd':\n",
    "        return int(timeframe[0:-1]) * 1440\n",
    "    \n",
    "def resample_dataframe(df: DataFrame, timeframe: str, drop_incomplete: bool = True) -> DataFrame:\n",
    "    \"\"\"\n",
    "    :param df:\n",
    "    :param timeframe: e.g. 15T = 15 minutes, 15M = 15 months\n",
    "    \"\"\"\n",
    "    timeframe_minutes = timeframe_to_minutes(timeframe)\n",
    "    #print(timeframe_minutes)\n",
    "    df_resampled = df.resample(f'{timeframe_minutes}min', on='date', origin='start').agg(\n",
    "        {'open': 'first',\n",
    "            'high': 'max',\n",
    "            'low': 'min',\n",
    "            'close': 'last',\n",
    "            'volume': 'sum'}\n",
    "    ).dropna()[['open', 'high', 'low', 'close', 'volume']]\n",
    "    # eliminate partial candle\n",
    "    if drop_incomplete:\n",
    "        df_resampled.drop(df_resampled.tail(1).index, inplace=True)\n",
    "        print('Dropping last candle')\n",
    "    return df_resampled"
   ]
  },
  {
   "cell_type": "code",
   "execution_count": 25,
   "id": "f6ab5390-fe84-4bf4-ad34-a28ca2f972ee",
   "metadata": {},
   "outputs": [
    {
     "name": "stdout",
     "output_type": "stream",
     "text": [
      "Dropping last candle\n"
     ]
    },
    {
     "data": {
      "text/html": [
       "<div>\n",
       "<style scoped>\n",
       "    .dataframe tbody tr th:only-of-type {\n",
       "        vertical-align: middle;\n",
       "    }\n",
       "\n",
       "    .dataframe tbody tr th {\n",
       "        vertical-align: top;\n",
       "    }\n",
       "\n",
       "    .dataframe thead th {\n",
       "        text-align: right;\n",
       "    }\n",
       "</style>\n",
       "<table border=\"1\" class=\"dataframe\">\n",
       "  <thead>\n",
       "    <tr style=\"text-align: right;\">\n",
       "      <th></th>\n",
       "      <th>open</th>\n",
       "      <th>high</th>\n",
       "      <th>low</th>\n",
       "      <th>close</th>\n",
       "      <th>volume</th>\n",
       "    </tr>\n",
       "    <tr>\n",
       "      <th>date</th>\n",
       "      <th></th>\n",
       "      <th></th>\n",
       "      <th></th>\n",
       "      <th></th>\n",
       "      <th></th>\n",
       "    </tr>\n",
       "  </thead>\n",
       "  <tbody>\n",
       "    <tr>\n",
       "      <th>2021-01-01 00:00:00+00:00</th>\n",
       "      <td>37.422</td>\n",
       "      <td>37.465</td>\n",
       "      <td>37.069</td>\n",
       "      <td>37.093</td>\n",
       "      <td>76243.89899</td>\n",
       "    </tr>\n",
       "    <tr>\n",
       "      <th>2021-01-01 00:15:00+00:00</th>\n",
       "      <td>37.093</td>\n",
       "      <td>37.157</td>\n",
       "      <td>37.048</td>\n",
       "      <td>37.134</td>\n",
       "      <td>25370.23378</td>\n",
       "    </tr>\n",
       "    <tr>\n",
       "      <th>2021-01-01 00:30:00+00:00</th>\n",
       "      <td>37.134</td>\n",
       "      <td>37.207</td>\n",
       "      <td>37.103</td>\n",
       "      <td>37.189</td>\n",
       "      <td>8143.24342</td>\n",
       "    </tr>\n",
       "    <tr>\n",
       "      <th>2021-01-01 00:45:00+00:00</th>\n",
       "      <td>37.189</td>\n",
       "      <td>37.473</td>\n",
       "      <td>37.177</td>\n",
       "      <td>37.468</td>\n",
       "      <td>782.95897</td>\n",
       "    </tr>\n",
       "    <tr>\n",
       "      <th>2021-01-01 01:00:00+00:00</th>\n",
       "      <td>37.468</td>\n",
       "      <td>37.614</td>\n",
       "      <td>37.423</td>\n",
       "      <td>37.612</td>\n",
       "      <td>391.40355</td>\n",
       "    </tr>\n",
       "  </tbody>\n",
       "</table>\n",
       "</div>"
      ],
      "text/plain": [
       "                             open    high     low   close       volume\n",
       "date                                                                  \n",
       "2021-01-01 00:00:00+00:00  37.422  37.465  37.069  37.093  76243.89899\n",
       "2021-01-01 00:15:00+00:00  37.093  37.157  37.048  37.134  25370.23378\n",
       "2021-01-01 00:30:00+00:00  37.134  37.207  37.103  37.189   8143.24342\n",
       "2021-01-01 00:45:00+00:00  37.189  37.473  37.177  37.468    782.95897\n",
       "2021-01-01 01:00:00+00:00  37.468  37.614  37.423  37.612    391.40355"
      ]
     },
     "execution_count": 25,
     "metadata": {},
     "output_type": "execute_result"
    }
   ],
   "source": [
    "df1 = resample_dataframe(df, '15m')\n",
    "df1.head()"
   ]
  },
  {
   "cell_type": "code",
   "execution_count": 26,
   "id": "f8fec662-6bc3-4cef-9bd7-1b74e56ad1a8",
   "metadata": {},
   "outputs": [
    {
     "name": "stdout",
     "output_type": "stream",
     "text": [
      "Dropping last candle\n",
      "53428\n",
      "Dropping last candle\n",
      "13357\n",
      "Dropping last candle\n",
      "3339\n",
      "Dropping last candle\n",
      "556\n"
     ]
    }
   ],
   "source": [
    "print(len(resample_dataframe(df, '15m')))\n",
    "print(len(resample_dataframe(df, '1h')))\n",
    "print(len(resample_dataframe(df, '4H')))\n",
    "print(len(resample_dataframe(df, '1D')))"
   ]
  },
  {
   "cell_type": "code",
   "execution_count": 29,
   "id": "8240b90b-78e0-4540-9ae4-74daa92474da",
   "metadata": {},
   "outputs": [
    {
     "name": "stdout",
     "output_type": "stream",
     "text": [
      "Dropping last candle\n"
     ]
    },
    {
     "data": {
      "text/plain": [
       "date\n",
       "2021-01-01 00:00:00+00:00         NaN\n",
       "2021-01-01 00:15:00+00:00         NaN\n",
       "2021-01-01 00:30:00+00:00         NaN\n",
       "2021-01-01 00:45:00+00:00         NaN\n",
       "2021-01-01 01:00:00+00:00         NaN\n",
       "                               ...   \n",
       "2022-07-11 12:00:00+00:00    0.824616\n",
       "2022-07-11 12:15:00+00:00    0.842000\n",
       "2022-07-11 12:30:00+00:00    0.828929\n",
       "2022-07-11 12:45:00+00:00    0.831005\n",
       "2022-07-11 13:00:00+00:00    0.834076\n",
       "Length: 53428, dtype: float64"
      ]
     },
     "execution_count": 29,
     "metadata": {},
     "output_type": "execute_result"
    }
   ],
   "source": [
    "getAtr(resample_dataframe(df, '15m'))"
   ]
  },
  {
   "cell_type": "code",
   "execution_count": 27,
   "id": "3917def6-b125-44cd-a785-4e8a59a18369",
   "metadata": {},
   "outputs": [
    {
     "name": "stdout",
     "output_type": "stream",
     "text": [
      "Dropping last candle\n"
     ]
    },
    {
     "data": {
      "text/plain": [
       "date\n",
       "2021-01-01 03:30:00+00:00    0.004913\n",
       "2021-01-01 03:45:00+00:00    0.004912\n",
       "2021-01-01 04:00:00+00:00    0.004829\n",
       "2021-01-01 04:15:00+00:00    0.004820\n",
       "2021-01-01 04:30:00+00:00    0.004819\n",
       "                               ...   \n",
       "2022-07-11 12:00:00+00:00    0.003558\n",
       "2022-07-11 12:15:00+00:00    0.003632\n",
       "2022-07-11 12:30:00+00:00    0.003574\n",
       "2022-07-11 12:45:00+00:00    0.003581\n",
       "2022-07-11 13:00:00+00:00    0.003594\n",
       "Name: volatility, Length: 53414, dtype: float64"
      ]
     },
     "execution_count": 27,
     "metadata": {},
     "output_type": "execute_result"
    }
   ],
   "source": [
    "getAtrRatio(resample_dataframe(df, '15m'))"
   ]
  },
  {
   "cell_type": "code",
   "execution_count": 31,
   "id": "64030a4d-1ff2-428b-bc84-b94e2de40c6b",
   "metadata": {},
   "outputs": [
    {
     "name": "stdout",
     "output_type": "stream",
     "text": [
      "Dropping last candle\n"
     ]
    }
   ],
   "source": [
    "atr = getAtr(resample_dataframe(df, '1d'))"
   ]
  },
  {
   "cell_type": "code",
   "execution_count": 36,
   "id": "a0cbc6cb-19f0-4054-8e97-413f2cfae4a6",
   "metadata": {},
   "outputs": [
    {
     "data": {
      "text/plain": [
       "date\n",
       "2022-05-15 00:00:00+00:00    30.648021\n",
       "2022-05-16 00:00:00+00:00    30.036662\n",
       "2022-05-17 00:00:00+00:00    28.940972\n",
       "2022-05-18 00:00:00+00:00    28.428260\n",
       "2022-05-19 00:00:00+00:00    27.993384\n",
       "2022-05-20 00:00:00+00:00    27.570857\n",
       "2022-05-21 00:00:00+00:00    26.670867\n",
       "2022-05-22 00:00:00+00:00    25.639519\n",
       "2022-05-23 00:00:00+00:00    25.369197\n",
       "2022-05-24 00:00:00+00:00    24.872968\n",
       "2022-05-25 00:00:00+00:00    24.093256\n",
       "2022-05-26 00:00:00+00:00    24.908309\n",
       "2022-05-27 00:00:00+00:00    24.492144\n",
       "2022-05-28 00:00:00+00:00    23.712634\n",
       "2022-05-29 00:00:00+00:00    22.709732\n",
       "2022-05-30 00:00:00+00:00    22.526965\n",
       "2022-05-31 00:00:00+00:00    21.731968\n",
       "Freq: 1440T, dtype: float64"
      ]
     },
     "execution_count": 36,
     "metadata": {},
     "output_type": "execute_result"
    }
   ],
   "source": [
    "#review atr for a time period\n",
    "atr.loc['2022-05-15 00:00:00':'2022-05-31 00:00:00']"
   ]
  },
  {
   "cell_type": "code",
   "execution_count": 53,
   "id": "942f7e78-12ee-42e7-8184-f47f7111f266",
   "metadata": {},
   "outputs": [
    {
     "name": "stdout",
     "output_type": "stream",
     "text": [
      "Dropping last candle\n"
     ]
    },
    {
     "data": {
      "text/plain": [
       "date\n",
       "2021-01-15 00:00:00+00:00    0.087752\n",
       "2021-01-16 00:00:00+00:00    0.086697\n",
       "2021-01-17 00:00:00+00:00    0.089719\n",
       "2021-01-18 00:00:00+00:00    0.087420\n",
       "2021-01-19 00:00:00+00:00    0.090362\n",
       "                               ...   \n",
       "2022-07-06 00:00:00+00:00    0.068697\n",
       "2022-07-07 00:00:00+00:00    0.066223\n",
       "2022-07-08 00:00:00+00:00    0.064827\n",
       "2022-07-09 00:00:00+00:00    0.061527\n",
       "2022-07-10 00:00:00+00:00    0.060755\n",
       "Freq: 1440T, Name: volatility, Length: 542, dtype: float64"
      ]
     },
     "execution_count": 53,
     "metadata": {},
     "output_type": "execute_result"
    }
   ],
   "source": [
    "getAtrRatio(resample_dataframe(df, '1d'))"
   ]
  },
  {
   "cell_type": "markdown",
   "id": "48d3222d-a72e-4e70-8d57-c0838a5dbe82",
   "metadata": {},
   "source": [
    "----\n",
    "----"
   ]
  },
  {
   "cell_type": "code",
   "execution_count": 15,
   "id": "8def9e19-367b-4729-be07-7b4770842def",
   "metadata": {},
   "outputs": [],
   "source": [
    "timeframe= '1D' # '2H'\n",
    "df_resampled = df.resample(timeframe, on='date', origin='start').agg(\n",
    "    {'open': 'first',\n",
    "        'high': 'max',\n",
    "        'low': 'min',\n",
    "        'close': 'last',\n",
    "        'volume': 'sum'}\n",
    ").dropna()[['open', 'high', 'low', 'close', 'volume']]"
   ]
  },
  {
   "cell_type": "code",
   "execution_count": 16,
   "id": "0292c2a9-626f-4af2-adb5-63b40f9cdca4",
   "metadata": {},
   "outputs": [
    {
     "data": {
      "text/plain": [
       "557"
      ]
     },
     "execution_count": 16,
     "metadata": {},
     "output_type": "execute_result"
    }
   ],
   "source": [
    "len(df_resampled)"
   ]
  },
  {
   "cell_type": "code",
   "execution_count": 17,
   "id": "f1e7a4e2-25d7-43b3-929c-041f185e8e6b",
   "metadata": {},
   "outputs": [
    {
     "data": {
      "text/html": [
       "<div>\n",
       "<style scoped>\n",
       "    .dataframe tbody tr th:only-of-type {\n",
       "        vertical-align: middle;\n",
       "    }\n",
       "\n",
       "    .dataframe tbody tr th {\n",
       "        vertical-align: top;\n",
       "    }\n",
       "\n",
       "    .dataframe thead th {\n",
       "        text-align: right;\n",
       "    }\n",
       "</style>\n",
       "<table border=\"1\" class=\"dataframe\">\n",
       "  <thead>\n",
       "    <tr style=\"text-align: right;\">\n",
       "      <th></th>\n",
       "      <th>open</th>\n",
       "      <th>high</th>\n",
       "      <th>low</th>\n",
       "      <th>close</th>\n",
       "      <th>volume</th>\n",
       "    </tr>\n",
       "    <tr>\n",
       "      <th>date</th>\n",
       "      <th></th>\n",
       "      <th></th>\n",
       "      <th></th>\n",
       "      <th></th>\n",
       "      <th></th>\n",
       "    </tr>\n",
       "  </thead>\n",
       "  <tbody>\n",
       "    <tr>\n",
       "      <th>2021-01-01 00:00:00+00:00</th>\n",
       "      <td>37.422</td>\n",
       "      <td>39.025</td>\n",
       "      <td>37.048</td>\n",
       "      <td>37.841</td>\n",
       "      <td>4.187075e+06</td>\n",
       "    </tr>\n",
       "    <tr>\n",
       "      <th>2021-01-02 00:00:00+00:00</th>\n",
       "      <td>37.841</td>\n",
       "      <td>38.923</td>\n",
       "      <td>36.904</td>\n",
       "      <td>38.279</td>\n",
       "      <td>4.329427e+06</td>\n",
       "    </tr>\n",
       "    <tr>\n",
       "      <th>2021-01-03 00:00:00+00:00</th>\n",
       "      <td>38.279</td>\n",
       "      <td>41.745</td>\n",
       "      <td>37.788</td>\n",
       "      <td>41.281</td>\n",
       "      <td>1.039575e+07</td>\n",
       "    </tr>\n",
       "    <tr>\n",
       "      <th>2021-01-04 00:00:00+00:00</th>\n",
       "      <td>41.281</td>\n",
       "      <td>43.411</td>\n",
       "      <td>38.089</td>\n",
       "      <td>41.113</td>\n",
       "      <td>8.678887e+06</td>\n",
       "    </tr>\n",
       "    <tr>\n",
       "      <th>2021-01-05 00:00:00+00:00</th>\n",
       "      <td>41.113</td>\n",
       "      <td>41.889</td>\n",
       "      <td>38.850</td>\n",
       "      <td>41.889</td>\n",
       "      <td>5.409385e+06</td>\n",
       "    </tr>\n",
       "  </tbody>\n",
       "</table>\n",
       "</div>"
      ],
      "text/plain": [
       "                             open    high     low   close        volume\n",
       "date                                                                   \n",
       "2021-01-01 00:00:00+00:00  37.422  39.025  37.048  37.841  4.187075e+06\n",
       "2021-01-02 00:00:00+00:00  37.841  38.923  36.904  38.279  4.329427e+06\n",
       "2021-01-03 00:00:00+00:00  38.279  41.745  37.788  41.281  1.039575e+07\n",
       "2021-01-04 00:00:00+00:00  41.281  43.411  38.089  41.113  8.678887e+06\n",
       "2021-01-05 00:00:00+00:00  41.113  41.889  38.850  41.889  5.409385e+06"
      ]
     },
     "execution_count": 17,
     "metadata": {},
     "output_type": "execute_result"
    }
   ],
   "source": [
    "df_resampled.head()"
   ]
  },
  {
   "cell_type": "code",
   "execution_count": null,
   "id": "b98a5675-deb4-45bc-945d-921e86133c57",
   "metadata": {},
   "outputs": [],
   "source": []
  },
  {
   "cell_type": "code",
   "execution_count": 13,
   "id": "e29274ee-1407-4bc1-a1f8-aac9f276a0ac",
   "metadata": {},
   "outputs": [
    {
     "data": {
      "text/plain": [
       "900"
      ]
     },
     "execution_count": 13,
     "metadata": {},
     "output_type": "execute_result"
    }
   ],
   "source": [
    "timeframe_to_minutes('15h')"
   ]
  },
  {
   "cell_type": "code",
   "execution_count": 14,
   "id": "ed15f484-7375-4456-aec2-57232c7c9e8d",
   "metadata": {},
   "outputs": [
    {
     "data": {
      "text/plain": [
       "'1h'"
      ]
     },
     "execution_count": 14,
     "metadata": {},
     "output_type": "execute_result"
    }
   ],
   "source": [
    "'1h'.lower().strip()"
   ]
  },
  {
   "cell_type": "code",
   "execution_count": 15,
   "id": "22709d3b-c32e-4a89-8686-f50d3d721f22",
   "metadata": {},
   "outputs": [
    {
     "data": {
      "text/plain": [
       "'1'"
      ]
     },
     "execution_count": 15,
     "metadata": {},
     "output_type": "execute_result"
    }
   ],
   "source": [
    "'1h'[0:-1]"
   ]
  },
  {
   "cell_type": "code",
   "execution_count": 16,
   "id": "b818c55c-c554-45b1-b5af-32354211034f",
   "metadata": {},
   "outputs": [
    {
     "name": "stdout",
     "output_type": "stream",
     "text": [
      "Dropping last candle\n",
      "53428\n",
      "Dropping last candle\n",
      "13357\n",
      "Dropping last candle\n",
      "3339\n",
      "Dropping last candle\n",
      "556\n"
     ]
    }
   ],
   "source": [
    "print(len(resample_dataframe(df, '15m')))\n",
    "print(len(resample_dataframe(df, '1h')))\n",
    "print(len(resample_dataframe(df, '4H')))\n",
    "print(len(resample_dataframe(df, '1D')))"
   ]
  },
  {
   "cell_type": "markdown",
   "id": "36f48104-8708-4bd2-a05d-ec79cf2413b8",
   "metadata": {},
   "source": [
    "----\n",
    "----"
   ]
  },
  {
   "cell_type": "code",
   "execution_count": 17,
   "id": "6d529652-2412-4f1c-8f66-7ee3ecb92a7c",
   "metadata": {},
   "outputs": [
    {
     "data": {
      "text/html": [
       "<div>\n",
       "<style scoped>\n",
       "    .dataframe tbody tr th:only-of-type {\n",
       "        vertical-align: middle;\n",
       "    }\n",
       "\n",
       "    .dataframe tbody tr th {\n",
       "        vertical-align: top;\n",
       "    }\n",
       "\n",
       "    .dataframe thead th {\n",
       "        text-align: right;\n",
       "    }\n",
       "</style>\n",
       "<table border=\"1\" class=\"dataframe\">\n",
       "  <thead>\n",
       "    <tr style=\"text-align: right;\">\n",
       "      <th></th>\n",
       "      <th>open</th>\n",
       "      <th>high</th>\n",
       "      <th>low</th>\n",
       "      <th>close</th>\n",
       "      <th>volume</th>\n",
       "    </tr>\n",
       "    <tr>\n",
       "      <th>date</th>\n",
       "      <th></th>\n",
       "      <th></th>\n",
       "      <th></th>\n",
       "      <th></th>\n",
       "      <th></th>\n",
       "    </tr>\n",
       "  </thead>\n",
       "  <tbody>\n",
       "    <tr>\n",
       "      <th>2021-01-01 00:00:00+00:00</th>\n",
       "      <td>28965.0</td>\n",
       "      <td>29070.5</td>\n",
       "      <td>28960.0</td>\n",
       "      <td>29022.0</td>\n",
       "      <td>1.439056e+06</td>\n",
       "    </tr>\n",
       "    <tr>\n",
       "      <th>2021-01-01 00:05:00+00:00</th>\n",
       "      <td>29022.0</td>\n",
       "      <td>29024.0</td>\n",
       "      <td>28888.5</td>\n",
       "      <td>28906.5</td>\n",
       "      <td>2.164178e+06</td>\n",
       "    </tr>\n",
       "    <tr>\n",
       "      <th>2021-01-01 00:10:00+00:00</th>\n",
       "      <td>28906.5</td>\n",
       "      <td>28926.0</td>\n",
       "      <td>28737.5</td>\n",
       "      <td>28812.5</td>\n",
       "      <td>1.269254e+06</td>\n",
       "    </tr>\n",
       "    <tr>\n",
       "      <th>2021-01-01 00:15:00+00:00</th>\n",
       "      <td>28812.5</td>\n",
       "      <td>28913.0</td>\n",
       "      <td>28778.5</td>\n",
       "      <td>28891.5</td>\n",
       "      <td>1.776118e+06</td>\n",
       "    </tr>\n",
       "    <tr>\n",
       "      <th>2021-01-01 00:20:00+00:00</th>\n",
       "      <td>28891.5</td>\n",
       "      <td>28902.0</td>\n",
       "      <td>28800.5</td>\n",
       "      <td>28901.5</td>\n",
       "      <td>2.040090e+06</td>\n",
       "    </tr>\n",
       "  </tbody>\n",
       "</table>\n",
       "</div>"
      ],
      "text/plain": [
       "                              open     high      low    close        volume\n",
       "date                                                                       \n",
       "2021-01-01 00:00:00+00:00  28965.0  29070.5  28960.0  29022.0  1.439056e+06\n",
       "2021-01-01 00:05:00+00:00  29022.0  29024.0  28888.5  28906.5  2.164178e+06\n",
       "2021-01-01 00:10:00+00:00  28906.5  28926.0  28737.5  28812.5  1.269254e+06\n",
       "2021-01-01 00:15:00+00:00  28812.5  28913.0  28778.5  28891.5  1.776118e+06\n",
       "2021-01-01 00:20:00+00:00  28891.5  28902.0  28800.5  28901.5  2.040090e+06"
      ]
     },
     "execution_count": 17,
     "metadata": {},
     "output_type": "execute_result"
    }
   ],
   "source": [
    "df = df.set_index('date')\n",
    "df.head()"
   ]
  },
  {
   "cell_type": "code",
   "execution_count": 18,
   "id": "52629c7b-4c80-42a3-8850-18807879ac72",
   "metadata": {},
   "outputs": [
    {
     "data": {
      "text/plain": [
       "date\n",
       "2021-01-01 01:10:00+00:00    0.003477\n",
       "2021-01-01 01:15:00+00:00    0.003604\n",
       "2021-01-01 01:20:00+00:00    0.003609\n",
       "2021-01-01 01:25:00+00:00    0.003676\n",
       "2021-01-01 01:30:00+00:00    0.003730\n",
       "                               ...   \n",
       "2022-07-11 12:55:00+00:00    0.001893\n",
       "2022-07-11 13:00:00+00:00    0.001872\n",
       "2022-07-11 13:05:00+00:00    0.001814\n",
       "2022-07-11 13:10:00+00:00    0.001806\n",
       "2022-07-11 13:15:00+00:00    0.001767\n",
       "Name: volatility, Length: 160263, dtype: float64"
      ]
     },
     "execution_count": 18,
     "metadata": {},
     "output_type": "execute_result"
    }
   ],
   "source": [
    "getAtrRatio(df)"
   ]
  },
  {
   "cell_type": "code",
   "execution_count": null,
   "id": "b7385f58-a5f7-428f-8425-515517d52538",
   "metadata": {},
   "outputs": [],
   "source": []
  }
 ],
 "metadata": {
  "kernelspec": {
   "display_name": "Python 3 (ipykernel)",
   "language": "python",
   "name": "python3"
  },
  "language_info": {
   "codemirror_mode": {
    "name": "ipython",
    "version": 3
   },
   "file_extension": ".py",
   "mimetype": "text/x-python",
   "name": "python",
   "nbconvert_exporter": "python",
   "pygments_lexer": "ipython3",
   "version": "3.10.4"
  }
 },
 "nbformat": 4,
 "nbformat_minor": 5
}
